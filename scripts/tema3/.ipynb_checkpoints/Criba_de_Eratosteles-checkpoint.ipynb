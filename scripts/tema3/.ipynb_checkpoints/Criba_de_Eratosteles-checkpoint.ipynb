{
 "cells": [
  {
   "cell_type": "code",
   "execution_count": 35,
   "metadata": {},
   "outputs": [
    {
     "name": "stdout",
     "output_type": "stream",
     "text": [
      "Ingresa un número natural mayor a 2: 120\n"
     ]
    }
   ],
   "source": [
    "#Pedimos hasta que número natural se van a buscar los primos\n",
    "n = int(input(\"Ingresa un número natural mayor a 2: \"))\n",
    "\n",
    "#Definimos la lista donde van a ir quedando los primos\n",
    "primos = []\n",
    "\n",
    "#creamos la lista de n números naturales\n",
    "L = []\n",
    "for i in range(2, n + 1):\n",
    "    L.append(i)\n",
    "\n",
    "#copiamos L en primos\n",
    "primos = L[:]\n",
    "i = 0\n",
    "\n",
    "#iteramos\n",
    "cond = True\n",
    "while cond:\n",
    "    aux = L[i]\n",
    "    #comenzamos a eliminar los múltiplos y dejamos solo los primos\n",
    "    for p in primos:\n",
    "        if p > aux and p % aux == 0:\n",
    "            primos.remove(p)\n",
    "    if aux^2 > n:\n",
    "        cond = False\n",
    "    i += 1"
   ]
  },
  {
   "cell_type": "code",
   "execution_count": 37,
   "metadata": {},
   "outputs": [
    {
     "data": {
      "text/plain": [
       "30"
      ]
     },
     "execution_count": 37,
     "metadata": {},
     "output_type": "execute_result"
    }
   ],
   "source": [
    "primos"
   ]
  }
 ],
 "metadata": {
  "kernelspec": {
   "display_name": "Python 3",
   "language": "python",
   "name": "python3"
  },
  "language_info": {
   "codemirror_mode": {
    "name": "ipython",
    "version": 3
   },
   "file_extension": ".py",
   "mimetype": "text/x-python",
   "name": "python",
   "nbconvert_exporter": "python",
   "pygments_lexer": "ipython3",
   "version": "3.7.6"
  }
 },
 "nbformat": 4,
 "nbformat_minor": 4
}
