{
 "cells": [
  {
   "cell_type": "markdown",
   "metadata": {},
   "source": [
    "### Tarea 5"
   ]
  },
  {
   "cell_type": "code",
   "execution_count": 1,
   "metadata": {},
   "outputs": [],
   "source": [
    "import math\n",
    "import numpy as np"
   ]
  },
  {
   "cell_type": "markdown",
   "metadata": {},
   "source": [
    "1. Crea una función que reciba los tres coeficientes a, b y c para resolver una ecuación de segundo grado. Muestra la solución por pantalla y ayúdate de la librería Math para acceder a la función raíz cuadrada."
   ]
  },
  {
   "cell_type": "code",
   "execution_count": 30,
   "metadata": {},
   "outputs": [],
   "source": [
    "#Creamos la función\n",
    "def solve2grado(a, b, c):\n",
    "    x1 = (-b + math.sqrt(b**2 - 4 * a * c)) / (2 * a)\n",
    "    x2 = (-b + math.sqrt(b**2 - 4 * a * c)) / (2 * a)\n",
    "    print('Las soluciones de la ecuación %.f*x^2 + %.f*x + %.f = 0 son x1 = %f, x2 = %f' % (a, b, c, x1, x2))"
   ]
  },
  {
   "cell_type": "code",
   "execution_count": 31,
   "metadata": {},
   "outputs": [
    {
     "name": "stdout",
     "output_type": "stream",
     "text": [
      "Las soluciones de la ecuación 5*x^2 + 7*x + 1 = 0 son x1 = -0.161484, x2 = -0.161484\n"
     ]
    }
   ],
   "source": [
    "solve2grado(5, 7, 1)"
   ]
  },
  {
   "cell_type": "markdown",
   "metadata": {},
   "source": [
    "2. Crea una función que lea una frase de teclado y nos diga si es o no un palíndromo (frase que se lee igual de izquierda a derecha o al revés como por ejemplo La ruta nos aportó otro paso natural.)"
   ]
  },
  {
   "cell_type": "code",
   "execution_count": 52,
   "metadata": {},
   "outputs": [],
   "source": [
    "def palindromo():\n",
    "    frase = input('Ingresa una frase: ')\n",
    "    l = []\n",
    "    for c in frase:\n",
    "        if c != ' ':\n",
    "            l.append(c)\n",
    "    if l == l[::-1]:\n",
    "        print(\"La frase '%s', es un palíndromo.\" % frase)\n",
    "    else:\n",
    "        print(\"La frase '%s', no es un palíndromo.\" % frase)"
   ]
  },
  {
   "cell_type": "code",
   "execution_count": 53,
   "metadata": {},
   "outputs": [
    {
     "name": "stdout",
     "output_type": "stream",
     "text": [
      "Ingresa una frase: la ruta nos aporto otro paso natural\n",
      "La frase 'la ruta nos aporto otro paso natural', es un palíndromo.\n"
     ]
    }
   ],
   "source": [
    "palindromo()"
   ]
  },
  {
   "cell_type": "markdown",
   "metadata": {},
   "source": [
    "3. Crea un diccionario que tenga por claves los números del 1 al 10 y como valores sus raíces cuadradas"
   ]
  },
  {
   "cell_type": "code",
   "execution_count": 55,
   "metadata": {},
   "outputs": [
    {
     "name": "stdout",
     "output_type": "stream",
     "text": [
      "{1: 1.0, 2: 1.4142135623730951, 3: 1.7320508075688772, 4: 2.0, 5: 2.23606797749979, 6: 2.449489742783178, 7: 2.6457513110645907, 8: 2.8284271247461903, 9: 3.0, 10: 3.1622776601683795}\n"
     ]
    }
   ],
   "source": [
    "dic = {}\n",
    "for i in range(1, 11):\n",
    "    dic[i] = math.sqrt(i)\n",
    "\n",
    "print(dic)"
   ]
  },
  {
   "cell_type": "markdown",
   "metadata": {},
   "source": [
    "4. Crea un diccionario que tenga como claves las letras del alfabeto castellano y como valores los símbolos del código morse (los tienes todos en la Wikipedia). A continuación crea un programa que lea una frase del teclado y te la convierta a Morse utilizando el diccionario anterior."
   ]
  },
  {
   "cell_type": "code",
   "execution_count": 56,
   "metadata": {},
   "outputs": [],
   "source": [
    "cod_morse = {'a': '.-',\n",
    "            'b': '-...',\n",
    "            'c': '-.-.',\n",
    "            'd': '-..',\n",
    "            'e': '.',\n",
    "            'f': '..-.',\n",
    "            'g': '--.',\n",
    "            'h': '....',\n",
    "            'i': '..',\n",
    "            'j': '.---',\n",
    "            'k': '-.-',\n",
    "            'l': '.-..',\n",
    "            'm': '--',\n",
    "            'n': '-.',\n",
    "            'ñ': '--.--',\n",
    "            'o': '---',\n",
    "            'p': '.--.',\n",
    "            'q': '--.-',\n",
    "            'r': '.-.',\n",
    "            's': '...',\n",
    "            't': '-',\n",
    "            'u': '..-',\n",
    "            'v': '...-',\n",
    "            'w': '.--',\n",
    "            'x': '-..-',\n",
    "            'y': '-.--',\n",
    "            'z': '--..'}"
   ]
  },
  {
   "cell_type": "code",
   "execution_count": 57,
   "metadata": {},
   "outputs": [],
   "source": [
    "def conv_morse():\n",
    "    frase = input('Ingresa la frase que quieres convertir a código Morse: ')\n",
    "    morse = []\n",
    "    for c in frase:\n",
    "        if c == ' ':\n",
    "            morse.append(c)\n",
    "        else:\n",
    "            morse.append(cod_morse[c])\n",
    "    print(morse)"
   ]
  },
  {
   "cell_type": "code",
   "execution_count": 58,
   "metadata": {},
   "outputs": [
    {
     "name": "stdout",
     "output_type": "stream",
     "text": [
      "Ingresa la frase que quieres convertir a código Morse: hola como estas\n",
      "['....', '---', '.-..', '.-', ' ', '-.-.', '---', '--', '---', ' ', '.', '...', '-', '.-', '...']\n"
     ]
    }
   ],
   "source": [
    "conv_morse()"
   ]
  },
  {
   "cell_type": "markdown",
   "metadata": {},
   "source": [
    "5. Crea una función que dados dos diccionarios nos diga que claves están presentes en ambos."
   ]
  },
  {
   "cell_type": "code",
   "execution_count": 71,
   "metadata": {},
   "outputs": [],
   "source": [
    "def claves_iguales(a, b):\n",
    "    l = []\n",
    "    for k in a.keys():\n",
    "        if k in b.keys():\n",
    "            l.append(k)\n",
    "    print(l)\n"
   ]
  },
  {
   "cell_type": "markdown",
   "metadata": {},
   "source": [
    "6. Crea una función que dado un número N nos diga si es primo o no (tiene que ir dividiendo por todos los números x comprendidos entre 2 y el propio número N menos uno y ver si el cociente de N/x tiene resto entero o no)."
   ]
  },
  {
   "cell_type": "code",
   "execution_count": 75,
   "metadata": {},
   "outputs": [],
   "source": [
    "def es_primo(n):\n",
    "    aux = True\n",
    "    i = 2\n",
    "    while aux:\n",
    "        if n % i == 0:\n",
    "            print(\"El número %d no es primo\" % n)\n",
    "            aux = False\n",
    "        elif i == n - 1:\n",
    "            print('El número %d es primo' % n)\n",
    "            aux = False\n",
    "        else:\n",
    "            i += 1"
   ]
  },
  {
   "cell_type": "code",
   "execution_count": 80,
   "metadata": {},
   "outputs": [
    {
     "name": "stdout",
     "output_type": "stream",
     "text": [
      "El número 17 es primo\n",
      "El número 5 es primo\n",
      "El número 33 no es primo\n"
     ]
    }
   ],
   "source": [
    "es_primo(17)\n",
    "es_primo(5)\n",
    "es_primo(33)"
   ]
  },
  {
   "cell_type": "markdown",
   "metadata": {},
   "source": [
    "7. Investiga la documentación de la clase string y crea un método que lea una frase del teclado y escriba la primera letra de cada palabra en Mayúscula."
   ]
  },
  {
   "cell_type": "code",
   "execution_count": 83,
   "metadata": {},
   "outputs": [],
   "source": [
    "def cap_prim_letra(s):\n",
    "    l = []\n",
    "    for p in s.split():\n",
    "        l.append(p.capitalize())\n",
    "    cap = ''\n",
    "    for p in l:\n",
    "        cap = cap + p + ' '\n",
    "    return cap"
   ]
  },
  {
   "cell_type": "code",
   "execution_count": 84,
   "metadata": {},
   "outputs": [
    {
     "name": "stdout",
     "output_type": "stream",
     "text": [
      "Hola Cómo Estás \n"
     ]
    }
   ],
   "source": [
    "prueba = cap_prim_letra('hola cómo estás')\n",
    "print(prueba)"
   ]
  },
  {
   "cell_type": "markdown",
   "metadata": {},
   "source": [
    "8. Crea una función que calcule el máximo común divisor de dos números introducidos por el usuario por teclado."
   ]
  },
  {
   "cell_type": "code",
   "execution_count": 85,
   "metadata": {},
   "outputs": [],
   "source": [
    "def max_com_div():\n",
    "    n1 = int(input('Ingresa el primer número: '))\n",
    "    n2 = int(input('Ingresa el segundo número: '))\n",
    "    menor = ''\n",
    "    if n1 < n2:\n",
    "        menor = n1\n",
    "    else:\n",
    "        menor = n2\n",
    "    \n",
    "    i = 1\n",
    "    mcd = 1\n",
    "    while i <= menor:\n",
    "        if n1 % i == 0 and n2 % i == 0:\n",
    "            mcd = i\n",
    "        i += 1\n",
    "    \n",
    "    return mcd "
   ]
  },
  {
   "cell_type": "code",
   "execution_count": 87,
   "metadata": {},
   "outputs": [
    {
     "name": "stdout",
     "output_type": "stream",
     "text": [
      "Ingresa el primer número: 55\n",
      "Ingresa el segundo número: 33\n",
      "11\n"
     ]
    }
   ],
   "source": [
    "mcd = max_com_div()\n",
    "print(mcd)"
   ]
  },
  {
   "cell_type": "markdown",
   "metadata": {},
   "source": [
    "9. Investiga el Cifrado del César y crea una función que lo reproduzca en Python. Cada letra del mensaje original se desplaza tres posiciones en el alfabeto estándar. La A se convierte en la D, la B se convierte en la E, la C se convierte en la F... y cuando se acaba el alfabeto se le vuelve a dar la vuelta: la X se convierte en la A, la Y en la B y la X en la C. Los números no sufren ninguna modificación."
   ]
  },
  {
   "cell_type": "code",
   "execution_count": 90,
   "metadata": {},
   "outputs": [],
   "source": [
    "def cifrado_cesar(frase):\n",
    "    cif_cesar = {'a': 'd','b': 'e', 'c': 'f', 'd': 'g', 'e': 'h', 'f': 'i', 'g': 'j', 'h': 'k', 'i': 'l',\n",
    "            'j': 'm', 'k': 'n', 'l': 'ñ', 'm': 'o', 'n': 'p', 'ñ': 'q', 'o': 'r', 'p': 's', 'q': 't', 'r': 'u',\n",
    "            's': 'v', 't': 'w', 'u': 'x', 'v': 'y', 'w': 'z', 'x': 'a', 'y': 'b', 'z': 'c', '0': '0', '1': '1',\n",
    "            '2': '2', '3': '3', '4': '4', '5': '5', '6': '6', '7': '7', '8': '8', '9': '9'}\n",
    "    cifrado = ''\n",
    "    for c in frase:\n",
    "        if c == ' ':\n",
    "            cifrado += c\n",
    "        else:\n",
    "            cifrado += cif_cesar[c]\n",
    "    return cifrado"
   ]
  },
  {
   "cell_type": "code",
   "execution_count": 92,
   "metadata": {},
   "outputs": [
    {
     "name": "stdout",
     "output_type": "stream",
     "text": [
      "krñd fror hvwdv mxdp23\n"
     ]
    }
   ],
   "source": [
    "prueba = cifrado_cesar('hola como estas juan23')\n",
    "print(prueba)"
   ]
  },
  {
   "cell_type": "markdown",
   "metadata": {},
   "source": [
    "10. Dado una lista de nombres de persona, escribe un algoritmo que los ordene de tres formas diferentes:\n",
    "\n",
    "A. De forma alfabética\n",
    "\n",
    "B. De forma alfabética invertida\n",
    "\n",
    "C. De nombre más corto al más largo."
   ]
  },
  {
   "cell_type": "code",
   "execution_count": 108,
   "metadata": {},
   "outputs": [],
   "source": [
    "def ordena_3 (nombres):\n",
    "    print('Lista ordenada de forma alfabética: ', sorted(nombres))\n",
    "    print('Lista ordenada de forma alfabética invertida: ', sorted(nombres, reverse = True))\n",
    "    print(' Lista ordenada de nombre más corto a más largo: ', sorted(nombres, key = len))"
   ]
  },
  {
   "cell_type": "code",
   "execution_count": 109,
   "metadata": {},
   "outputs": [
    {
     "name": "stdout",
     "output_type": "stream",
     "text": [
      "Lista ordenada de forma alfabética:  ['Alejandro', 'Diego', 'Juan', 'Leonor', 'Sofía', 'Vicente']\n",
      "Lista ordenada de forma alfabética invertida:  ['Vicente', 'Sofía', 'Leonor', 'Juan', 'Diego', 'Alejandro']\n",
      " Lista ordenada de nombre más corto a más largo:  ['Juan', 'Diego', 'Sofía', 'Leonor', 'Vicente', 'Alejandro']\n"
     ]
    }
   ],
   "source": [
    "prueba = ['Juan', 'Diego', 'Alejandro', 'Leonor', 'Sofía', 'Vicente']\n",
    "ordena_3(prueba)"
   ]
  }
 ],
 "metadata": {
  "kernelspec": {
   "display_name": "Python 3",
   "language": "python",
   "name": "python3"
  },
  "language_info": {
   "codemirror_mode": {
    "name": "ipython",
    "version": 3
   },
   "file_extension": ".py",
   "mimetype": "text/x-python",
   "name": "python",
   "nbconvert_exporter": "python",
   "pygments_lexer": "ipython3",
   "version": "3.7.6"
  }
 },
 "nbformat": 4,
 "nbformat_minor": 4
}
