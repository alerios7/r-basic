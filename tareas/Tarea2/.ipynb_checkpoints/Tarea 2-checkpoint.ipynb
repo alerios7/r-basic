{
 "cells": [
  {
   "cell_type": "markdown",
   "metadata": {},
   "source": [
    "## Tarea 2"
   ]
  },
  {
   "cell_type": "code",
   "execution_count": 24,
   "metadata": {},
   "outputs": [],
   "source": [
    "import math"
   ]
  },
  {
   "cell_type": "markdown",
   "metadata": {},
   "source": [
    "1) Escribe una secuencia de instrucciones que permitan leer un número real por pantalla y que muestre si el número es positivo o no."
   ]
  },
  {
   "cell_type": "code",
   "execution_count": 25,
   "metadata": {},
   "outputs": [
    {
     "name": "stdout",
     "output_type": "stream",
     "text": [
      "Ingresa un número: 10\n",
      "El número 10.0 es positivo\n"
     ]
    }
   ],
   "source": [
    "numero = float(input('Ingresa un número: '))\n",
    "if numero >= 0:\n",
    "    print('El número ' + str(numero) + ' es positivo')\n",
    "else:\n",
    "    print('El número ' + str(numero) + ' es negativo')"
   ]
  },
  {
   "cell_type": "markdown",
   "metadata": {},
   "source": [
    "2) Escribe una secuencia de instrucciones que permitan leer un número real por pantalla y que muestre si el número está en el rango entre -5 y 5"
   ]
  },
  {
   "cell_type": "code",
   "execution_count": 26,
   "metadata": {},
   "outputs": [
    {
     "name": "stdout",
     "output_type": "stream",
     "text": [
      "Ingresa un número: 4\n",
      "El número 4.0 es está en el rango -5 y 5\n"
     ]
    }
   ],
   "source": [
    "numero = float(input('Ingresa un número: '))\n",
    "if numero >= -5 and numero <= 5:\n",
    "    print('El número ' + str(numero) + ' es está en el rango -5 y 5')\n",
    "else:\n",
    "    print('El número ' + str(numero) + ' está fuera del rango -5 y 5')"
   ]
  },
  {
   "cell_type": "markdown",
   "metadata": {},
   "source": [
    "3) Escribe una secuencia de instrucciones que permitan leer las coordenadas de un punto (x, y) e indique en cuál de los cuatro cuadrantes se encuentra dicho punto."
   ]
  },
  {
   "cell_type": "code",
   "execution_count": 35,
   "metadata": {},
   "outputs": [
    {
     "name": "stdout",
     "output_type": "stream",
     "text": [
      "Ingrese coordenada x: 3\n",
      "Ingrese coordenada y: -4\n",
      "El vector (3.0, -4.0) se encuentra en el cuadrante 4\n"
     ]
    }
   ],
   "source": [
    "x = float(input('Ingrese coordenada x: '))\n",
    "y = float(input('Ingrese coordenada y: '))\n",
    "\n",
    "if (x >= 0 and y >= 0):\n",
    "    print('El vector (' + str(x) + ', ' + str(y) + ') se encuentra en el cuadrante 1')\n",
    "elif (x < 0 and y >= 0):\n",
    "    print('El vector (' + str(x) + ', ' + str(y) + ') se encuentra en el cuadrante 2')\n",
    "elif (x < 0 and y < 0):\n",
    "    print('El vector (' + str(x) + ', ' + str(y) + ') se encuentra en el cuadrante 3')\n",
    "else:\n",
    "    print('El vector (' + str(x) + ', ' + str(y) + ') se encuentra en el cuadrante 4')"
   ]
  },
  {
   "cell_type": "markdown",
   "metadata": {},
   "source": [
    "4) Escribe una secuencia de instrucciones que permitan leer dos números enteros y muestre el cociente de la división entera y el resto."
   ]
  },
  {
   "cell_type": "code",
   "execution_count": 14,
   "metadata": {},
   "outputs": [
    {
     "name": "stdout",
     "output_type": "stream",
     "text": [
      "Ingresa el dividendo: 3\n",
      "Ingresa el divisor: 4\n",
      "El cociente de la división entera de 3 dividido  4 es 0 y resto 3\n"
     ]
    }
   ],
   "source": [
    "dividendo = int(input('Ingresa el dividendo: '))\n",
    "divisor = int(input('Ingresa el divisor: '))\n",
    "coc_entero = dividendo // divisor\n",
    "resto = dividendo % divisor\n",
    "print('El cociente de la división entera de ' + str(dividendo) + ' dividido  ' + str(divisor) + ' es ' + str(coc_entero) + \n",
    "     ' y resto ' + str(resto))"
   ]
  },
  {
   "cell_type": "markdown",
   "metadata": {},
   "source": [
    "5) Escribe una secuencia de instrucciones que permitan leer un número entero es cuadrado perfecto o no (piensa la mejor forma de hacerlo con lo que has aprendido hasta ahora)"
   ]
  },
  {
   "cell_type": "code",
   "execution_count": 23,
   "metadata": {},
   "outputs": [
    {
     "name": "stdout",
     "output_type": "stream",
     "text": [
      "Ingresa un número entero: 10\n",
      "El número 10 no es un cuadrado perfecto\n"
     ]
    }
   ],
   "source": [
    "numero = int(input('Ingresa un número entero: '))\n",
    "\n",
    "if(math.sqrt(numero) == math.floor(math.sqrt(numero))):\n",
    "    print('El número ' + str(numero) + ' es un cuadrado perfecto')\n",
    "else:\n",
    "    print('El número ' + str(numero) + ' no es un cuadrado perfecto')\n",
    "        "
   ]
  },
  {
   "cell_type": "markdown",
   "metadata": {},
   "source": [
    "6) Escribe una expresión que permita determinar si un número entero positivo puede corresponder a un año bisiesto o no. Se consideran años bisiestos aquellos cuyo número es divisible por cuatro excepto los años que son múltiplos de 100, a no ser que lo sean de 400 (por ejemplo el año 2000 fue bisiesto pero el 2100 no lo será)."
   ]
  },
  {
   "cell_type": "code",
   "execution_count": 49,
   "metadata": {},
   "outputs": [
    {
     "name": "stdout",
     "output_type": "stream",
     "text": [
      "Ingres un número entero positivo: 2100\n",
      "El año 2100 no es bisiesto\n"
     ]
    }
   ],
   "source": [
    "numero = int(input('Ingres un número entero positivo: '))\n",
    "cond1 = numero % 4 == 0\n",
    "cond2 = numero % 100 == 0\n",
    "cond3 = numero % 400 == 0\n",
    "if ((cond1 and not(cond2)) or (cond1 and cond2 and cond3)):\n",
    "    print('El año ' + str(numero) + ' es bisiesto')\n",
    "else:\n",
    "    print('El año ' + str(numero) + ' no es bisiesto')"
   ]
  },
  {
   "cell_type": "markdown",
   "metadata": {},
   "source": [
    "7) Busca la imagen de un tablero de ajedrez en Google y fíjate en la nomenclatura de las casillas. Escribe una expresión lea una letra y un número de teclado correspondiente a una casilla de un tablero de ajedrez y nos indique si esta casilla es negra o blanca."
   ]
  },
  {
   "cell_type": "code",
   "execution_count": 57,
   "metadata": {},
   "outputs": [
    {
     "name": "stdout",
     "output_type": "stream",
     "text": [
      "Ingresa una letra del tablero (entre la a y la h): b\n",
      "Ingresa un número entre 1 y 8: 2\n",
      "La casilla (B, 2) es negra\n"
     ]
    }
   ],
   "source": [
    "letra = input('Ingresa una letra del tablero (entre la a y la h): ').upper()\n",
    "numero = int(input('Ingresa un número entre 1 y 8: '))\n",
    "g1 = ['A', 'C', 'E', 'G']\n",
    "g2 = ['B', 'D', 'F', 'H']\n",
    "\n",
    "if letra in g1:\n",
    "    if numero % 2 == 0:\n",
    "        print('La casilla (' + str(letra) + ', ' + str(numero) + ') es blanca')\n",
    "    else:\n",
    "        print('La casilla (' + str(letra) + ', ' + str(numero) + ') es negra')\n",
    "elif letra in g2:\n",
    "    if numero % 2 == 0:\n",
    "        print('La casilla (' + str(letra) + ', ' + str(numero) + ') es negra')\n",
    "    else:\n",
    "        print('La casilla (' + str(letra) + ', ' + str(numero) + ') es blanca')\n",
    "else:\n",
    "    print('Los valores ingresados están fuera del tablero')\n"
   ]
  }
 ],
 "metadata": {
  "kernelspec": {
   "display_name": "Python 3",
   "language": "python",
   "name": "python3"
  },
  "language_info": {
   "codemirror_mode": {
    "name": "ipython",
    "version": 3
   },
   "file_extension": ".py",
   "mimetype": "text/x-python",
   "name": "python",
   "nbconvert_exporter": "python",
   "pygments_lexer": "ipython3",
   "version": "3.7.6"
  }
 },
 "nbformat": 4,
 "nbformat_minor": 4
}
